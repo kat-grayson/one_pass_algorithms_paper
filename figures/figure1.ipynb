{
 "cells": [
  {
   "cell_type": "code",
   "execution_count": 4,
   "metadata": {},
   "outputs": [],
   "source": [
    "%matplotlib inline\n",
    "import xarray as xr\n",
    "import numpy as np \n",
    "\n",
    "#Plotting libraries\n",
    "import cartopy.crs as ccrs\n",
    "import matplotlib.pyplot as plt\n",
    "import matplotlib.gridspec as gs\n"
   ]
  },
  {
   "cell_type": "markdown",
   "metadata": {},
   "source": [
    "Load data"
   ]
  },
  {
   "cell_type": "code",
   "execution_count": 2,
   "metadata": {},
   "outputs": [],
   "source": [
    "# read data \n",
    "data1p = xr.open_dataset(\"/home/b/b382291/opa_paper/data/2020_03_2t_monthly_mean_1p.nc\")\n",
    "data2p = xr.open_dataset(\"/home/b/b382291/opa_paper/data/2020_03_2t_monthly_mean_2p.nc\")\n",
    "\n",
    "# if using the data on zenodo\n",
    "#data1p = xr.open_dataset(\".../2t_march_2020_IFS_tco2559_ng5_cycle3_r010_one_pass_mean.nc\")\n",
    "#data2p = xr.open_dataset(\".../2t_march_2020_IFS_tco2559_ng5_cycle3_r010_conventional_mean.nc\")\n"
   ]
  },
  {
   "cell_type": "markdown",
   "metadata": {},
   "source": [
    "Plot data"
   ]
  },
  {
   "cell_type": "code",
   "execution_count": 5,
   "metadata": {},
   "outputs": [],
   "source": [
    " #Projection\n",
    "data_crs = ccrs.Robinson()\n",
    "fig = plt.figure(constrained_layout=False,figsize=(20,13))\n",
    "fig.subplots_adjust(bottom=0.2, top=0.9, left=0.1, right=0.9, hspace = 0.4)\n",
    "\n",
    "nrow = 2\n",
    "ncol = 1\n",
    "outer = gs.GridSpec(nrow,ncol,wspace=0.01,hspace=0.35)\n",
    "fsize = 15\n",
    "\n",
    "# get the data to plot\n",
    "one_pass_data = data1p['2t'][0,:,:].values\n",
    "difference = data1p - data2p\n",
    "difference = difference['2t'][0,:,:]\n",
    "\n",
    "for i in range(nrow*ncol):\n",
    "    ax = plt.subplot(outer[i],projection = data_crs)\n",
    "    ax.coastlines(resolution = '10m') #Draws the coastline.\n",
    "\n",
    "    gl = ax.gridlines(draw_labels = True, linestyle='dashed', alpha=0.25)\n",
    "    gl.top_labels = False\n",
    "    gl.right_labels = False\n",
    "    gl.xlabel_style = {'size': fsize}\n",
    "    gl.ylabel_style = {'size': fsize}\n",
    "\n",
    "    lon2d,lat2d = np.meshgrid(data1p.lon, data1p.lat)\n",
    "\n",
    "    cmap = plt.get_cmap('Reds', 20)\n",
    "    cmap1 = plt.get_cmap('RdBu', 20)\n",
    "    \n",
    "    if i == 0:\n",
    "        cs = ax.pcolormesh(lon2d, lat2d, one_pass_data, transform=ccrs.PlateCarree(),cmap=cmap)\n",
    "        ax.set_title('(a)', fontsize = fsize, loc = 'left')\n",
    "\n",
    "    else: \n",
    "        cs = ax.pcolormesh(lon2d, lat2d, difference, transform=ccrs.PlateCarree(),cmap=cmap1)\n",
    "        ax.set_title('(b)', fontsize = fsize, loc = 'left')\n",
    "\n",
    "    # Add color bar for each subplot\n",
    "    spacing = 0.4\n",
    "    y_dis = 0.56 - i * (spacing)\n",
    "    # Adjust the positions for colorbars\n",
    "    cbar_ax = fig.add_axes([0.325, y_dis, 0.35, 0.01])\n",
    "\n",
    "    if i == 0:\n",
    "        cbar = fig.colorbar(cs, cax=cbar_ax, orientation='horizontal') \n",
    "        cbar.set_label(\"mean 2 m temperature [K]\", rotation=0, fontsize = fsize)\n",
    "        cbar.ax.tick_params(labelsize=fsize)\n",
    "        \n",
    "    else:\n",
    "        cbar = fig.colorbar(cs, cax=cbar_ax, orientation='horizontal') \n",
    "        cbar.set_label(\"difference in means of 2 m temperature [K]\", rotation=0, fontsize = fsize)\n",
    "        cbar.ax.tick_params(labelsize=fsize)\n",
    "\n",
    "cbar.ax.tick_params(axis='x', labelsize=fsize)\n",
    "cbar.update_ticks()\n",
    "\n",
    "plt.show()"
   ]
  }
 ],
 "metadata": {
  "kernelspec": {
   "display_name": "aqua",
   "language": "python",
   "name": "aqua"
  },
  "language_info": {
   "codemirror_mode": {
    "name": "ipython",
    "version": 3
   },
   "file_extension": ".py",
   "mimetype": "text/x-python",
   "name": "python",
   "nbconvert_exporter": "python",
   "pygments_lexer": "ipython3",
   "version": "3.11.8"
  }
 },
 "nbformat": 4,
 "nbformat_minor": 2
}
